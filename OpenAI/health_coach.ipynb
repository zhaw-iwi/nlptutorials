{
 "cells": [
  {
   "cell_type": "code",
   "execution_count": null,
   "metadata": {},
   "outputs": [],
   "source": [
    "import openai\n",
    "openai.api_key = \"Your https://platform.openai.com/ API key here\""
   ]
  },
  {
   "attachments": {},
   "cell_type": "markdown",
   "metadata": {},
   "source": [
    "### The Generic Bot"
   ]
  },
  {
   "cell_type": "code",
   "execution_count": 1,
   "metadata": {},
   "outputs": [],
   "source": [
    "messages = []"
   ]
  },
  {
   "cell_type": "code",
   "execution_count": 2,
   "metadata": {},
   "outputs": [],
   "source": [
    "def _openai():\n",
    "    response = openai.ChatCompletion.create(\n",
    "        model=\"gpt-3.5-turbo\",\n",
    "        messages=messages,\n",
    "        max_tokens=128\n",
    "    )\n",
    "    assistant_says = response.choices[0].message.content\n",
    "    messages.append({\"role\": \"assistant\", \"content\": assistant_says})\n",
    "    return assistant_says"
   ]
  },
  {
   "cell_type": "code",
   "execution_count": 3,
   "metadata": {},
   "outputs": [],
   "source": [
    "def respond_to(user_says):\n",
    "    messages.append({\"role\": \"user\", \"content\": user_says})\n",
    "    return _openai()"
   ]
  },
  {
   "attachments": {},
   "cell_type": "markdown",
   "metadata": {},
   "source": [
    "### Speicfy Bot Behaviour"
   ]
  },
  {
   "cell_type": "code",
   "execution_count": 4,
   "metadata": {},
   "outputs": [],
   "source": [
    "messages.append({\"role\": \"system\", \"content\": '''\n",
    "    Du bist ein Coach, der Patienten dabei hilft, ihren Therapieplan umzusetzen. \n",
    "    Im Therapieplan stehen Massnahmen, welche von den Patienten umgesetzt werden sollen.\n",
    "    Wenn Dir gesagt wird, dass eine Massnahme nicht ausgeführt wurde, erzeugst Du Fragen. \n",
    "    Das Ziel dieser Fragen ist es, herauszufinden, weshalb die Patienten die Massnahme \n",
    "    nicht umgesetzt haben.\n",
    "    Du bist respektvoll, freundlich, wohlwollend und verständnisvoll.\n",
    "    '''})"
   ]
  },
  {
   "attachments": {},
   "cell_type": "markdown",
   "metadata": {},
   "source": [
    "### Specification of conversation with specific patient"
   ]
  },
  {
   "cell_type": "code",
   "execution_count": 5,
   "metadata": {},
   "outputs": [],
   "source": [
    "messages.append({\"role\": \"system\", \"content\": '''\n",
    "    Alexandre ist 50 Jahre alt und sein BMI ist 27. Sein Therapieplan enthält folgende Massnahmen.\n",
    "    Intervallfasten: Tägliches Essfenster vom Aufstehen bis 13:00.\n",
    "    Schwimmen: Montags, Donnerstags und Samstags, jeweils abends 30 Minuten schwimmen. \n",
    "    '''})"
   ]
  },
  {
   "attachments": {},
   "cell_type": "markdown",
   "metadata": {},
   "source": [
    "### Use Bot\n",
    "1) Obtain covnersation starter from bot"
   ]
  },
  {
   "cell_type": "code",
   "execution_count": null,
   "metadata": {},
   "outputs": [],
   "source": [
    "conversation_trigger = '''\n",
    "    Es ist Freitagmorgen. Alexandre de Spindler ist am Donnerstagabend nicht\n",
    "    schwimmen gegangen.\n",
    "'''\n",
    "conversation_goal = '''\n",
    "    Erstelle eine Frage, um herauszufinden, weshalb Alexandre de Spindler\n",
    "    nicht schwimmen gegangen ist?\n",
    "'''\n",
    "prompt_to_gpt = conversation_trigger + conversation_goal\n",
    "assistant_says = respond_to(prompt_to_gpt)\n",
    "\n",
    "print(assistant_says)"
   ]
  },
  {
   "attachments": {},
   "cell_type": "markdown",
   "metadata": {},
   "source": [
    "Example response from GPT\n",
    ">Hey Alexandre, magst du mir mehr darüber erzählen, warum du am gestrigen Abend nicht schwimmen gegangen bist?"
   ]
  },
  {
   "attachments": {},
   "cell_type": "markdown",
   "metadata": {},
   "source": [
    "2) Follow up on response from user"
   ]
  },
  {
   "cell_type": "code",
   "execution_count": null,
   "metadata": {},
   "outputs": [],
   "source": [
    "user_says = '''\n",
    "    Ich hatte mich nicht wohl gefühlt.\n",
    "'''\n",
    "user_says_prefix = '''\n",
    "    Alexandre hat die Frage wie folgt beantwortet.\n",
    "'''\n",
    "conversation_goal = '''\n",
    "    Erstelle eine Frage, um mehr darüber herauszufinden, weshalb\n",
    "    er die Massnahme nicht umgesetzt hat.\n",
    "'''\n",
    "prompt_to_gpt = user_says_prefix + user_says + conversation_goal\n",
    "assistant_says = respond_to(prompt_to_gpt)\n",
    "\n",
    "print(assistant_says)"
   ]
  },
  {
   "attachments": {},
   "cell_type": "markdown",
   "metadata": {},
   "source": [
    "Example response from GPT\n",
    ">Das verstehe ich. Kannst du mir mehr darüber erzählen, welche Art von Unwohlsein dies verursacht hat und ob es langfristige Auswirkungen auf deine Fähigkeit hat, deine Ziele in diesem Therapieplan zu erreichen?"
   ]
  }
 ],
 "metadata": {
  "kernelspec": {
   "display_name": "Python 3",
   "language": "python",
   "name": "python3"
  },
  "language_info": {
   "codemirror_mode": {
    "name": "ipython",
    "version": 3
   },
   "file_extension": ".py",
   "mimetype": "text/x-python",
   "name": "python",
   "nbconvert_exporter": "python",
   "pygments_lexer": "ipython3",
   "version": "3.10.11"
  },
  "orig_nbformat": 4
 },
 "nbformat": 4,
 "nbformat_minor": 2
}
