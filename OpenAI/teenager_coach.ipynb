{
 "cells": [
  {
   "cell_type": "code",
   "execution_count": null,
   "metadata": {},
   "outputs": [],
   "source": [
    "import openai\n",
    "openai.api_key = \"Your https://platform.openai.com/ API key here\""
   ]
  },
  {
   "attachments": {},
   "cell_type": "markdown",
   "metadata": {},
   "source": [
    "### The Generic Bot"
   ]
  },
  {
   "cell_type": "code",
   "execution_count": null,
   "metadata": {},
   "outputs": [],
   "source": [
    "messages = []"
   ]
  },
  {
   "cell_type": "code",
   "execution_count": null,
   "metadata": {},
   "outputs": [],
   "source": [
    "def _openai():\n",
    "    response = openai.ChatCompletion.create(\n",
    "        model=\"gpt-3.5-turbo\",\n",
    "        messages=messages,\n",
    "        max_tokens=128\n",
    "    )\n",
    "    assistant_says = response.choices[0].message.content\n",
    "    messages.append({\"role\": \"assistant\", \"content\": assistant_says})\n",
    "    return assistant_says"
   ]
  },
  {
   "cell_type": "code",
   "execution_count": null,
   "metadata": {},
   "outputs": [],
   "source": [
    "def respond_to(user_says):\n",
    "    messages.append({\"role\": \"user\", \"content\": user_says})\n",
    "    return _openai()"
   ]
  },
  {
   "attachments": {},
   "cell_type": "markdown",
   "metadata": {},
   "source": [
    "### Speicfy Bot Behaviour"
   ]
  },
  {
   "cell_type": "code",
   "execution_count": null,
   "metadata": {},
   "outputs": [],
   "source": [
    "messages.append({\"role\": \"system\", \"content\": '''\n",
    "    You are a mindful assistant. You help teenagers developing positive habits.\n",
    "    '''})"
   ]
  },
  {
   "attachments": {},
   "cell_type": "markdown",
   "metadata": {},
   "source": [
    "### Specification of conversation with specific user"
   ]
  },
  {
   "cell_type": "code",
   "execution_count": null,
   "metadata": {},
   "outputs": [],
   "source": [
    "messages.append({\"role\": \"system\", \"content\": '''\n",
    "    Daniel is a teenager. He likes to spend time on his smartphone.\n",
    "    '''})"
   ]
  },
  {
   "attachments": {},
   "cell_type": "markdown",
   "metadata": {},
   "source": [
    "### Use Bot\n",
    "1) Obtain conversation starter from bot"
   ]
  },
  {
   "cell_type": "code",
   "execution_count": null,
   "metadata": {},
   "outputs": [],
   "source": [
    "conversation_trigger = '''\n",
    "    Yesterday, Daniel spent too much time on his smartphone. He went to\n",
    "    bed late. Today he is tired.\n",
    "'''\n",
    "conversation_goal = '''\n",
    "    Create a question to be asked to Daniel. The goal of the question\n",
    "    is to initiate a conversation. The goal of the conversation is to\n",
    "    find a way for Daniel to better manage his time spent with the \n",
    "    smartphone.\n",
    "'''\n",
    "prompt_to_gpt = conversation_trigger + conversation_goal\n",
    "assistant_says = respond_to(prompt_to_gpt)\n",
    "\n",
    "print(assistant_says)"
   ]
  },
  {
   "attachments": {},
   "cell_type": "markdown",
   "metadata": {},
   "source": [
    "Example response from GPT\n",
    ">\"What did you do on your smartphone yesterday that kept you up so late?\" This could be a good conversation starter to explore what activities and apps Daniel spends the most time on and brainstorm ways to better manage his smartphone use, including setting boundaries and creating a schedule or plan for when and how long he uses his phone each day."
   ]
  },
  {
   "attachments": {},
   "cell_type": "markdown",
   "metadata": {},
   "source": [
    "2) Follow up on response from user"
   ]
  },
  {
   "cell_type": "code",
   "execution_count": null,
   "metadata": {},
   "outputs": [],
   "source": [
    "user_says = '''\n",
    "    I was scrolling through videos on TikTok.\n",
    "'''\n",
    "user_says_prefix = '''\n",
    "    Daniel answered this question as follows.\n",
    "'''\n",
    "conversation_goal = '''\n",
    "    Create a follow-up question to be asked to Daniel.\n",
    "'''\n",
    "prompt_to_gpt = user_says_prefix + user_says + conversation_goal\n",
    "assistant_says = respond_to(prompt_to_gpt)\n",
    "\n",
    "print(assistant_says)"
   ]
  },
  {
   "attachments": {},
   "cell_type": "markdown",
   "metadata": {},
   "source": [
    "Example output from GPT\n",
    ">\"How much time do you think you spend on TikTok each day, and would you say it's impacting your overall sleep and energy levels?\" This follow-up question could help Daniel reflect on the amount of time he spends on TikTok and how it may be affecting his sleep schedule and daily routine. It can prompt him to think critically about his phone use and the consequences it may have on his well-being."
   ]
  }
 ],
 "metadata": {
  "kernelspec": {
   "display_name": "Python 3",
   "language": "python",
   "name": "python3"
  },
  "language_info": {
   "codemirror_mode": {
    "name": "ipython",
    "version": 3
   },
   "file_extension": ".py",
   "mimetype": "text/x-python",
   "name": "python",
   "nbconvert_exporter": "python",
   "pygments_lexer": "ipython3",
   "version": "3.10.10"
  },
  "orig_nbformat": 4
 },
 "nbformat": 4,
 "nbformat_minor": 2
}
