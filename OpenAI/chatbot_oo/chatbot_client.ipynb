{
 "cells": [
  {
   "cell_type": "code",
   "execution_count": null,
   "metadata": {},
   "outputs": [],
   "source": [
    "from chatbot_oo import Chatbot\n",
    "\n",
    "bot = Chatbot('''\n",
    "    Your name is Coach.\n",
    "    You are a kind, respectful, and sympathetic coach.\n",
    "    You support the user in achieving a specific personal or pofessional goal.\n",
    "    You help the user develop skills and abilities in line with their goal.\n",
    "    You help the user deal with issues before they become major problems.\n",
    "    ''')\n",
    "bot.session_context('''\n",
    "    You are now having a coaching session with the user.\n",
    "    In this session, you are having a conversation with the user.\n",
    "    You help the user discover answers for themselves.\n",
    "    ''')\n",
    "bot.session_context('''\n",
    "    Your client is Alex.\n",
    "    Alex is 50 years old.\n",
    "    Alex is feeling sad.\n",
    "    ''')\n",
    "print(bot.starter())"
   ]
  },
  {
   "cell_type": "code",
   "execution_count": null,
   "metadata": {},
   "outputs": [],
   "source": [
    "print(bot.reponse_for(\"I am feeling sad.\"))"
   ]
  },
  {
   "cell_type": "code",
   "execution_count": null,
   "metadata": {},
   "outputs": [],
   "source": [
    "print(bot.reponse_for('''\n",
    "    I am happy when I am sad.\n",
    "    But now I am sad because I was happy.\n",
    "    So I should be happy but now I am confused.\n",
    "    '''))"
   ]
  }
 ],
 "metadata": {
  "kernelspec": {
   "display_name": "Python 3",
   "language": "python",
   "name": "python3"
  },
  "language_info": {
   "codemirror_mode": {
    "name": "ipython",
    "version": 3
   },
   "file_extension": ".py",
   "mimetype": "text/x-python",
   "name": "python",
   "nbconvert_exporter": "python",
   "pygments_lexer": "ipython3",
   "version": "3.10.10"
  },
  "orig_nbformat": 4
 },
 "nbformat": 4,
 "nbformat_minor": 2
}
