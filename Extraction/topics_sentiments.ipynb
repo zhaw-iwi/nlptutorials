{
 "cells": [
  {
   "cell_type": "code",
   "execution_count": null,
   "metadata": {},
   "outputs": [],
   "source": [
    "import pandas as pd\n",
    "import sqlite3\n",
    "\n",
    "connection = None\n",
    "try:\n",
    "    connection = sqlite3.connect(\"data/mental_health.db\")\n",
    "except sqlite3.Error as e:\n",
    "    print(e)\n",
    "\n",
    "df = pd.read_sql_query('''\n",
    "    select id, text, label\n",
    "    from texts\n",
    "    ''', connection, index_col=\"id\")\n",
    "df.head()"
   ]
  },
  {
   "cell_type": "code",
   "execution_count": null,
   "metadata": {},
   "outputs": [],
   "source": [
    "df = df.sample(n=1000, random_state=1)"
   ]
  },
  {
   "attachments": {},
   "cell_type": "markdown",
   "metadata": {},
   "source": [
    "on ii711 at 4GHz: 4m 24s"
   ]
  },
  {
   "cell_type": "code",
   "execution_count": null,
   "metadata": {},
   "outputs": [],
   "source": [
    "import spacy\n",
    "\n",
    "nlp = spacy.load(\"en_core_web_lg\")\n",
    "df[\"nlp\"] = df[\"text\"].apply(nlp)\n",
    "df.head()"
   ]
  },
  {
   "attachments": {},
   "cell_type": "markdown",
   "metadata": {},
   "source": [
    "### POS-Rule-Based Detections"
   ]
  },
  {
   "cell_type": "code",
   "execution_count": null,
   "metadata": {},
   "outputs": [],
   "source": [
    "topics_df = pd.DataFrame(columns=[\n",
    "    \"document\", \n",
    "    \"sentence\", \n",
    "    \"topic\", \n",
    "    \"tb_polarity\", \n",
    "    \"tb_subjectivity\", \n",
    "    \"sia_neg\", \n",
    "    \"sia_neu\", \n",
    "    \"sia_pos\", \n",
    "    \"sia_compound\"])"
   ]
  },
  {
   "cell_type": "code",
   "execution_count": null,
   "metadata": {},
   "outputs": [],
   "source": [
    "from tqdm import tqdm\n",
    "\n",
    "i = 0\n",
    "\n",
    "for index, row in tqdm(df.iterrows()):\n",
    "    for sentence in row[\"nlp\"].sents:\n",
    "        sentence_document = nlp(sentence.text)\n",
    "        targets = []\n",
    "        for token in sentence_document:\n",
    "            if token.dep_ == \"nsubj\" and token.pos_ == \"NOUN\":\n",
    "                targets.append(token.text)\n",
    "        for target in targets:\n",
    "            new_row = pd.DataFrame({\n",
    "                \"document\": index,\n",
    "                \"sentence\": sentence.text,\n",
    "                \"topic\": target.lower(),\n",
    "            }, index=[i])\n",
    "            topics_df = pd.concat([new_row, topics_df])\n",
    "            i = i + 1\n",
    "\n",
    "topics_df.head()"
   ]
  },
  {
   "attachments": {},
   "cell_type": "markdown",
   "metadata": {},
   "source": [
    "### Sentiment Detections"
   ]
  },
  {
   "cell_type": "code",
   "execution_count": null,
   "metadata": {},
   "outputs": [],
   "source": [
    "from textblob import TextBlob\n",
    "\n",
    "for index, row in tqdm(topics_df.iterrows()):\n",
    "    sentiment_tb = TextBlob(row[\"sentence\"]).sentiment\n",
    "    row[\"tb_polarity\"] = sentiment_tb.polarity\n",
    "    row[\"tb_subjectivity\"] = sentiment_tb.subjectivity \n",
    "\n",
    "topics_df.head()"
   ]
  },
  {
   "cell_type": "code",
   "execution_count": null,
   "metadata": {},
   "outputs": [],
   "source": [
    "from vaderSentiment.vaderSentiment import SentimentIntensityAnalyzer\n",
    "sia = SentimentIntensityAnalyzer()\n",
    "for index, row in tqdm(topics_df.iterrows()):\n",
    "    sentiment_sia = sia.polarity_scores(row[\"sentence\"])\n",
    "    row[\"sia_neg\"] = sentiment_sia[\"neg\"]\n",
    "    row[\"sia_neu\"] = sentiment_sia[\"neu\"]\n",
    "    row[\"sia_pos\"] = sentiment_sia[\"pos\"]\n",
    "    row[\"sia_compound\"] = sentiment_sia[\"compound\"]\n",
    "\n",
    "topics_df.head()"
   ]
  },
  {
   "cell_type": "code",
   "execution_count": null,
   "metadata": {},
   "outputs": [],
   "source": [
    "import sqlite3\n",
    "\n",
    "connection = None\n",
    "try:\n",
    "    connection = sqlite3.connect(\"data/mental_health.db\")\n",
    "except sqlite3.Error as e:\n",
    "    print(e)\n",
    "\n",
    "topics_df.to_sql(\"sentiments\", connection, if_exists=\"append\", index=False)\n",
    "\n",
    "connection.commit()"
   ]
  }
 ],
 "metadata": {
  "kernelspec": {
   "display_name": "Python 3",
   "language": "python",
   "name": "python3"
  },
  "language_info": {
   "codemirror_mode": {
    "name": "ipython",
    "version": 3
   },
   "file_extension": ".py",
   "mimetype": "text/x-python",
   "name": "python",
   "nbconvert_exporter": "python",
   "pygments_lexer": "ipython3",
   "version": "3.10.4"
  },
  "orig_nbformat": 4,
  "vscode": {
   "interpreter": {
    "hash": "26de051ba29f2982a8de78e945f0abaf191376122a1563185a90213a26c5da77"
   }
  }
 },
 "nbformat": 4,
 "nbformat_minor": 2
}
