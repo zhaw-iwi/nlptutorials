{
 "cells": [
  {
   "cell_type": "code",
   "execution_count": null,
   "metadata": {},
   "outputs": [],
   "source": [
    "import pandas as pd\n",
    "\n",
    "df = pd.read_csv(\"data/mental_health.csv\")\n",
    "df.head()"
   ]
  },
  {
   "cell_type": "code",
   "execution_count": null,
   "metadata": {},
   "outputs": [],
   "source": [
    "df = df.sample(n=1000, random_state=1).reset_index()"
   ]
  },
  {
   "cell_type": "code",
   "execution_count": null,
   "metadata": {},
   "outputs": [],
   "source": [
    "import spacy\n",
    "\n",
    "nlp = spacy.load(\"en_core_web_lg\")\n",
    "nlp.pipeline"
   ]
  },
  {
   "attachments": {},
   "cell_type": "markdown",
   "metadata": {},
   "source": [
    "on i711 at 4GHz: 6 mins"
   ]
  },
  {
   "cell_type": "code",
   "execution_count": null,
   "metadata": {},
   "outputs": [],
   "source": [
    "df[\"nlp\"] = df[\"text\"].apply(nlp)\n",
    "df.head()"
   ]
  },
  {
   "attachments": {},
   "cell_type": "markdown",
   "metadata": {},
   "source": [
    "### Spacy Basic NLP"
   ]
  },
  {
   "attachments": {},
   "cell_type": "markdown",
   "metadata": {},
   "source": [
    "- **.text**\tThe original word text\n",
    "- **.lemma_**\tThe base form of the word\n",
    "- **.pos_**\tThe simple part-of-speech tag\n",
    "- **.tag_**\tThe detailed part-of-speech tag\n",
    "- **.shape_**\tThe word shape – capitalization, punctuation, digits\n",
    "- **.is_alpha**\tIs the token an alpha character?\n",
    "- **.is_stop**\tIs the token part of a stop list, i.e. the most common words of the language?\n",
    "\n",
    "(https://towardsdatascience.com/hands-on-implementation-of-basic-nlp-techniques-nltk-or-spacy-687099e02816)"
   ]
  },
  {
   "cell_type": "code",
   "execution_count": null,
   "metadata": {},
   "outputs": [],
   "source": [
    "document = df.loc[0].at[\"nlp\"]\n",
    "print(document.text)"
   ]
  },
  {
   "cell_type": "code",
   "execution_count": null,
   "metadata": {},
   "outputs": [],
   "source": [
    "for token in document:\n",
    "    print(token.text, \": \", \n",
    "          token.tag_, \" (\", \n",
    "          spacy.explain(token.tag_), \")\")"
   ]
  },
  {
   "cell_type": "code",
   "execution_count": null,
   "metadata": {},
   "outputs": [],
   "source": [
    "pos_counts = document.count_by(spacy.attrs.POS)\n",
    "print(pos_counts)\n",
    "for k,v in sorted(pos_counts.items()):\n",
    "    print(k, document.vocab[k].text, v)"
   ]
  },
  {
   "cell_type": "code",
   "execution_count": null,
   "metadata": {},
   "outputs": [],
   "source": [
    "for entity in document.ents:\n",
    "    print(entity.text, \": \", \n",
    "          entity.label_, \" (\", \n",
    "          spacy.explain(entity.label_), \")\")"
   ]
  },
  {
   "cell_type": "code",
   "execution_count": null,
   "metadata": {},
   "outputs": [],
   "source": [
    "from spacy import displacy\n",
    "\n",
    "displacy.render(document, style=\"dep\", jupyter=True)"
   ]
  },
  {
   "attachments": {},
   "cell_type": "markdown",
   "metadata": {},
   "source": [
    "### Statistics per Label"
   ]
  },
  {
   "cell_type": "code",
   "execution_count": null,
   "metadata": {},
   "outputs": [],
   "source": [
    "from tqdm import tqdm\n",
    "\n",
    "def create_histogram(df_X):\n",
    "    result = {}\n",
    "    for _, row in  tqdm(df_X.iterrows()):\n",
    "        for entity in row[\"nlp\"].ents:\n",
    "            current = result.get(entity.label_)\n",
    "            if (current is None):\n",
    "                current = 1\n",
    "            else:\n",
    "                current = current + 1\n",
    "            result[entity.label_] = current\n",
    "\n",
    "    return result\n",
    "\n",
    "histogram_0 = create_histogram(df[df[\"label\"] == 0])\n",
    "histogram_0 = sorted(histogram_0.items(), key=lambda item:item[0])\n",
    "histogram_1 = create_histogram(df[df[\"label\"] == 1])\n",
    "histogram_1 = sorted(histogram_1.items(), key=lambda item:item[0])"
   ]
  },
  {
   "cell_type": "code",
   "execution_count": null,
   "metadata": {},
   "outputs": [],
   "source": [
    "from matplotlib import pyplot as plt\n",
    "\n",
    "figure = plt.figure()\n",
    "figure.set_figwidth(20)\n",
    "\n",
    "plt.bar([item[0] for item in histogram_0], [item[1] for item in histogram_0])\n",
    "plt.show()"
   ]
  },
  {
   "cell_type": "code",
   "execution_count": null,
   "metadata": {},
   "outputs": [],
   "source": [
    "figure = plt.figure()\n",
    "figure.set_figwidth(20)\n",
    "\n",
    "plt.bar([item[0] for item in histogram_1], [item[1] for item in histogram_1])\n",
    "plt.show()"
   ]
  },
  {
   "attachments": {},
   "cell_type": "markdown",
   "metadata": {},
   "source": [
    "### Fine-Tuning Dataset for Question Answering"
   ]
  },
  {
   "cell_type": "code",
   "execution_count": null,
   "metadata": {},
   "outputs": [],
   "source": [
    "document = nlp(\"bradley cooper started the car and drove away\")\n",
    "print(document.text)\n",
    "for entity in document.ents:\n",
    "    print(entity, \" - \", entity.label_)"
   ]
  },
  {
   "cell_type": "code",
   "execution_count": null,
   "metadata": {},
   "outputs": [],
   "source": [
    "question_words = {\n",
    "    \"PERSON\": \"Who\",\n",
    "    \"TIME\": \"When\",\n",
    "    \"GPE\": \"Where\"\n",
    "}"
   ]
  },
  {
   "cell_type": "code",
   "execution_count": null,
   "metadata": {},
   "outputs": [],
   "source": [
    "for entity in document.ents:\n",
    "    question_word = question_words.get(entity.label_)\n",
    "    if (question_word is not None):\n",
    "        question_sentence = document.text.replace(entity.text, question_word)\n",
    "        answer_sentence = entity.text\n",
    "        print(\"<item><q>\", question_sentence, \"</q><a>\", answer_sentence, \"</a></item>\")"
   ]
  }
 ],
 "metadata": {
  "kernelspec": {
   "display_name": "Python 3",
   "language": "python",
   "name": "python3"
  },
  "language_info": {
   "codemirror_mode": {
    "name": "ipython",
    "version": 3
   },
   "file_extension": ".py",
   "mimetype": "text/x-python",
   "name": "python",
   "nbconvert_exporter": "python",
   "pygments_lexer": "ipython3",
   "version": "3.10.4"
  },
  "orig_nbformat": 4,
  "vscode": {
   "interpreter": {
    "hash": "26de051ba29f2982a8de78e945f0abaf191376122a1563185a90213a26c5da77"
   }
  }
 },
 "nbformat": 4,
 "nbformat_minor": 2
}
