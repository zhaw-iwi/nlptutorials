{
 "cells": [
  {
   "attachments": {},
   "cell_type": "markdown",
   "metadata": {},
   "source": [
    "### Data clean up in the database\n",
    "- removed 14 topics in {_, aa, aaaaa, ...}\n",
    "- delete from sentiments where length(sentiments.topic) < 2 (282 removed)\n",
    "\n",
    "### Topics per Taster\n",
    "| Topic | Label | TB Pol. | SIA Comp. | N Occurrences |\n",
    "| --- | --- | --- | --- | --- |\n",
    "| people | 0 | -0.1 | 0.2732 | 1958 |\n",
    "| film | 0 | 0.59 | 0.9664 | 1201 |\n",
    "| movie | 0 | 0.26125 | 0.3612 | 1032 |\n",
    "| guys | 0 | 0.13342151675485 | 0.9956 | 717 |\n",
    "| friends | 0 | 0.00426136363636 | 0.7713 | 580 |\n",
    "| things | 0 | 0.15555555555556 | 0.8694 | 464 |\n",
    "| life | 0 | 0.18 | 0.5574 | 439 |\n",
    "| friend | 0 | 0.13342151675485 | 0.9956 | 403 |\n",
    "| parents | 0 | 0.15 | 0.2477 | 397 |\n",
    "| girl | 0 | -0.2 | -0.6486 | 385 |\n",
    "| man | 0 | 0.24444444444444 | -0.4416 | 378 |\n",
    "| thing | 0 | -0.0875 | -0.296 | 356 |\n",
    "|  |  |  |  |  |\n",
    "| people | 1 | 0.14675324675325 | 0.3884 | 5520 |\n",
    "| life | 1 | 0.14675324675325 | 0.3884 | 4106 |\n",
    "| things | 1 | -0.14768170426065 | -0.9464 | 2413 |\n",
    "| friends | 1 | -0.12142857142857 | -0.8463 | 2122 |\n",
    "| parents | 1 | 0.08605442176871 | -0.2975 | 1480 |\n",
    "| family | 1 | 0.00923558501684 | -0.4778 | 1298 |\n",
    "| person | 1 | -0.09309523809524 | -0.9921 | 1207 |\n",
    "| thing | 1 | -0.30416666666667 | -0.98 | 1128 |\n",
    "| friend | 1 | -0.12142857142857 | -0.8463 | 1106 |\n",
    "| time | 1 | -0.28 | -0.7519 | 1056 |\n",
    "| mom | 1 | -0.2 | -0.5588 | 1019 |\n",
    "| world | 1 | -0.30416666666667 | -0.98 | 763 |\n",
    "| N (sent > +/- 0.3, topics/doc > 4) |  |  |  | 100110 |"
   ]
  },
  {
   "cell_type": "code",
   "execution_count": null,
   "metadata": {},
   "outputs": [],
   "source": [
    "import pandas as pd\n",
    "import sqlite3\n",
    "\n",
    "connection = None\n",
    "try:\n",
    "    connection = sqlite3.connect(\"data/mental_health.db\")\n",
    "except sqlite3.Error as e:\n",
    "    print(e)\n",
    "\n",
    "topics_df = pd.read_sql_query('''\n",
    "    select id, text, label, topic, (sia_compound + tb_polarity)/2 as sentiment\n",
    "    from texts, sentiments\n",
    "    where id = document\n",
    "    and id in (\n",
    "        select document\n",
    "        from (\n",
    "            select *\n",
    "            from texts, (\n",
    "                select document, topic, (sia_compound + tb_polarity)/2 as sentiment\n",
    "                from sentiments\n",
    "            ) as sentiments_computed\n",
    "            where id = sentiments_computed.document\n",
    "            and (sentiments_computed.sentiment > 0.3 or sentiments_computed.sentiment < -0.3) -- some level of polarity\n",
    "        ) as sentiments_filtered\n",
    "        group by sentiments_filtered.document\n",
    "        having count(sentiments_filtered.topic) > 4 -- texts containing at least N topics\n",
    "    )\n",
    "''', connection)\n",
    "topics_df.head()"
   ]
  },
  {
   "cell_type": "code",
   "execution_count": null,
   "metadata": {},
   "outputs": [],
   "source": [
    "pairs_df = pd.DataFrame(columns=[\"document\", \"label\", \"text_lhs\", \"topic_lhs\", \"sentiment_lhs\", \"text_rhs\", \"topic_rhs\", \"sentiment_rhs\", \"distance\"])\n",
    "\n",
    "topics_df = topics_df.sample(1000, random_state=17)\n",
    "#pairs_df.head()"
   ]
  },
  {
   "cell_type": "code",
   "execution_count": null,
   "metadata": {},
   "outputs": [],
   "source": [
    "import math\n",
    "def compute_distance(lhs, rhs):\n",
    "    return math.sqrt((lhs - rhs) ** 2)\n",
    "    # return 1"
   ]
  },
  {
   "cell_type": "code",
   "execution_count": null,
   "metadata": {},
   "outputs": [],
   "source": [
    "from tqdm import tqdm\n",
    "\n",
    "i = 0\n",
    "\n",
    "for index_lhs, row_lhs in tqdm(topics_df.iterrows()):\n",
    "    for index_rhs, row_rhs in topics_df.iterrows():\n",
    "        if  ((index_lhs < index_rhs) & \n",
    "             (row_lhs[\"id\"] == row_rhs[\"id\"]) & \n",
    "             (row_lhs[\"topic\"] != row_rhs[\"topic\"])):\n",
    "            \n",
    "            new_row = pd.DataFrame({\n",
    "                \"document\": row_lhs[\"id\"],\n",
    "                \"label\": row_lhs[\"label\"],\n",
    "                \"text_lhs\": row_lhs[\"text\"],\n",
    "                \"topic_lhs\": row_lhs[\"topic\"],\n",
    "                \"sentiment_lhs\": row_lhs[\"sentiment\"],\n",
    "                \"text_rhs\": row_rhs[\"text\"],\n",
    "                \"topic_rhs\": row_rhs[\"topic\"],\n",
    "                \"sentiment_rhs\": row_rhs[\"sentiment\"],\n",
    "                \"distance\": compute_distance(row_lhs[\"sentiment\"], row_rhs[\"sentiment\"])\n",
    "            }, index=[i])\n",
    "            pairs_df = pd.concat([new_row, pairs_df])\n",
    "            i = i + 1\n",
    "\n",
    "pairs_df.head()"
   ]
  },
  {
   "cell_type": "code",
   "execution_count": null,
   "metadata": {},
   "outputs": [],
   "source": [
    "import sqlite3\n",
    "\n",
    "connection = None\n",
    "try:\n",
    "    connection = sqlite3.connect(\"data/mental_health.db\")\n",
    "except sqlite3.Error as e:\n",
    "    print(e)\n",
    "\n",
    "pairs_df.to_sql(\"pairs\", connection, if_exists=\"append\", index=False)\n",
    "\n",
    "connection.commit()"
   ]
  }
 ],
 "metadata": {
  "kernelspec": {
   "display_name": "Python 3",
   "language": "python",
   "name": "python3"
  },
  "language_info": {
   "codemirror_mode": {
    "name": "ipython",
    "version": 3
   },
   "file_extension": ".py",
   "mimetype": "text/x-python",
   "name": "python",
   "nbconvert_exporter": "python",
   "pygments_lexer": "ipython3",
   "version": "3.10.4"
  },
  "orig_nbformat": 4,
  "vscode": {
   "interpreter": {
    "hash": "26de051ba29f2982a8de78e945f0abaf191376122a1563185a90213a26c5da77"
   }
  }
 },
 "nbformat": 4,
 "nbformat_minor": 2
}
