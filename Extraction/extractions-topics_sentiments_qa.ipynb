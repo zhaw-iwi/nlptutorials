{
 "cells": [
  {
   "cell_type": "code",
   "execution_count": null,
   "metadata": {},
   "outputs": [],
   "source": [
    "import spacy\n",
    "nlp = spacy.load(\"en_core_web_lg\")"
   ]
  },
  {
   "attachments": {},
   "cell_type": "markdown",
   "metadata": {},
   "source": [
    "### Extraction Basics"
   ]
  },
  {
   "cell_type": "code",
   "execution_count": null,
   "metadata": {},
   "outputs": [],
   "source": [
    "review = nlp(\"Very good hospital! I was there a couple of times for good (birth) and less good reasons. The attention was always perfect. Great doctors, nurses, midwifes, all staff members in general are super! Also very good Emergency service. And on top of everything, the food is quite good :)\")"
   ]
  },
  {
   "cell_type": "code",
   "execution_count": null,
   "metadata": {},
   "outputs": [],
   "source": [
    "for sentence in review.sents:\n",
    "    print(sentence)\n",
    "    sentence_document = nlp(sentence.text)\n",
    "    for token in sentence_document:\n",
    "        print(token, \": \", token.pos_, \" | \", token.dep_)"
   ]
  },
  {
   "cell_type": "code",
   "execution_count": null,
   "metadata": {},
   "outputs": [],
   "source": [
    "import spacy.displacy as displacy\n",
    "\n",
    "displacy.render(review)"
   ]
  },
  {
   "attachments": {},
   "cell_type": "markdown",
   "metadata": {},
   "source": [
    "### Topic Detection"
   ]
  },
  {
   "cell_type": "code",
   "execution_count": null,
   "metadata": {},
   "outputs": [],
   "source": [
    "def topic_detection(document):\n",
    "\n",
    "    topics = []\n",
    "    for sentence in document.sents:\n",
    "        sentence_document = nlp(sentence.text)\n",
    "        for token in sentence_document:\n",
    "            if (token.pos_ == \"NOUN\" and token.dep_ == \"nsubj\" or token.dep_ == \"pobj\"):\n",
    "                topics.append(token)\n",
    "\n",
    "    result = {}\n",
    "    for topic in topics:\n",
    "        subsentence = []\n",
    "        for lefty in topic.lefts:\n",
    "            subsentence.append(lefty.text)\n",
    "        subsentence.append(topic.text)\n",
    "        for righty in topic.rights:\n",
    "            subsentence.append(righty.text)\n",
    "\n",
    "        result[topic.text] = \" \".join(subsentence)\n",
    "\n",
    "    return result\n",
    "\n",
    "topics = topic_detection(review)\n",
    "print(topics)\n",
    "\n"
   ]
  },
  {
   "attachments": {},
   "cell_type": "markdown",
   "metadata": {},
   "source": [
    "### Sentiment Analysis"
   ]
  },
  {
   "cell_type": "code",
   "execution_count": null,
   "metadata": {},
   "outputs": [],
   "source": [
    "from textblob import TextBlob\n",
    "\n",
    "sentiment = TextBlob(\"The attention was always perfect.\").sentiment\n",
    "print(sentiment)"
   ]
  },
  {
   "cell_type": "code",
   "execution_count": null,
   "metadata": {},
   "outputs": [],
   "source": [
    "for topic, subsentence in topics.items():\n",
    "    sentiment = TextBlob(subsentence).sentiment\n",
    "    print(topic, \": \", sentiment)"
   ]
  },
  {
   "attachments": {},
   "cell_type": "markdown",
   "metadata": {},
   "source": [
    "### Question Answering Data Set"
   ]
  },
  {
   "cell_type": "code",
   "execution_count": null,
   "metadata": {},
   "outputs": [],
   "source": [
    "document = nlp(\"Leonardo di Caprio bought a house in New York. Matt Damon wasn't happy about that.\")\n",
    "\n",
    "question_words = {\n",
    "    \"PERSON\": \"who\",\n",
    "    \"GPE\": \"where\"\n",
    "}\n",
    "\n",
    "qas = []\n",
    "\n",
    "for sentence in document.sents:\n",
    "    sentence_document = nlp(sentence.text)\n",
    "    for entity in sentence_document.ents:\n",
    "        question_word = question_words.get(entity.label_)\n",
    "        question = sentence_document.text.replace(entity.text, question_word)\n",
    "        answer = entity.text\n",
    "        qas.append((question, answer))\n",
    "\n",
    "\n",
    "print(qas)"
   ]
  }
 ],
 "metadata": {
  "kernelspec": {
   "display_name": "Python 3",
   "language": "python",
   "name": "python3"
  },
  "language_info": {
   "codemirror_mode": {
    "name": "ipython",
    "version": 3
   },
   "file_extension": ".py",
   "mimetype": "text/x-python",
   "name": "python",
   "nbconvert_exporter": "python",
   "pygments_lexer": "ipython3",
   "version": "3.10.4"
  },
  "orig_nbformat": 4
 },
 "nbformat": 4,
 "nbformat_minor": 2
}
