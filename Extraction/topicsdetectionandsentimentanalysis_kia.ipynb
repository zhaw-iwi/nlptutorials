{
 "cells": [
  {
   "cell_type": "code",
   "execution_count": null,
   "metadata": {},
   "outputs": [],
   "source": [
    "import spacy\n",
    "nlp = spacy.load(\"en_core_web_lg\")\n",
    "\n",
    "document = nlp('''\n",
    "    Very good hospital! I was there a couple of times for good \n",
    "    (birth) and less good reasons. The attention was always \n",
    "    perfect. Great doctors, nurses, midwifes, all staff members \n",
    "    in general are super! Also very good Emergency service.\n",
    "    ''')"
   ]
  },
  {
   "attachments": {},
   "cell_type": "markdown",
   "metadata": {},
   "source": [
    "### NLP Basics"
   ]
  },
  {
   "cell_type": "code",
   "execution_count": null,
   "metadata": {},
   "outputs": [],
   "source": [
    "for sentence in document.sents:\n",
    "    sentence_document = nlp(sentence.text)\n",
    "    for token in sentence_document:\n",
    "        print(token.text, \": \", token.pos_, \" | \", token.dep_)"
   ]
  },
  {
   "cell_type": "code",
   "execution_count": null,
   "metadata": {},
   "outputs": [],
   "source": [
    "import spacy.displacy as displacy\n",
    "\n",
    "displacy.render(document)"
   ]
  },
  {
   "attachments": {},
   "cell_type": "markdown",
   "metadata": {},
   "source": [
    "### Rule-Based Topic Detection"
   ]
  },
  {
   "cell_type": "code",
   "execution_count": null,
   "metadata": {},
   "outputs": [],
   "source": [
    "def topic_extraction(document):\n",
    "    topics = []\n",
    "    for sentence in document.sents:\n",
    "        sentence_document = nlp(sentence.text)\n",
    "        for token in sentence_document:\n",
    "            if (\n",
    "                token.pos_ == \"NOUN\" and \n",
    "                (\n",
    "                    token.dep_ == \"nsubj\" or \n",
    "                    token.dep_ == \"pobj\"\n",
    "                )\n",
    "                ):\n",
    "                topics.append(token)\n",
    "    result = {}\n",
    "    for topic in topics:\n",
    "        subsentence = []\n",
    "        for lefty in topic.lefts:\n",
    "            subsentence.append(lefty.text)\n",
    "        subsentence.append(topic.text)\n",
    "        for righty in topic.rights:\n",
    "            subsentence.append(righty.text)\n",
    "        result[topic] = \" \".join(subsentence)\n",
    "\n",
    "    return result\n",
    "\n",
    "topics = topic_extraction(document)\n",
    "print(topics)\n",
    "    "
   ]
  },
  {
   "attachments": {},
   "cell_type": "markdown",
   "metadata": {},
   "source": [
    "### Sentiment Analysis"
   ]
  },
  {
   "cell_type": "code",
   "execution_count": null,
   "metadata": {},
   "outputs": [],
   "source": [
    "from textblob import TextBlob\n",
    "\n",
    "for topic, subsentence in topics.items():\n",
    "    sentiment = TextBlob(subsentence).sentiment\n",
    "    print(topic, \": \", sentiment)"
   ]
  },
  {
   "attachments": {},
   "cell_type": "markdown",
   "metadata": {},
   "source": [
    "### Question Answering"
   ]
  },
  {
   "cell_type": "code",
   "execution_count": null,
   "metadata": {},
   "outputs": [],
   "source": [
    "document = nlp(\"Leonardo di Caprio bought a house in Zurich\")\n",
    "\n",
    "question_words = {\n",
    "    \"PERSON\": \"who\",\n",
    "    \"GPE\": \"where\"\n",
    "}\n",
    "\n",
    "for entity in document.ents:\n",
    "    question_word = question_words.get(entity.label_)\n",
    "    question = document.text.replace(entity.text, question_word)\n",
    "    print(question, \": \", entity.text)"
   ]
  }
 ],
 "metadata": {
  "kernelspec": {
   "display_name": "Python 3",
   "language": "python",
   "name": "python3"
  },
  "language_info": {
   "codemirror_mode": {
    "name": "ipython",
    "version": 3
   },
   "file_extension": ".py",
   "mimetype": "text/x-python",
   "name": "python",
   "nbconvert_exporter": "python",
   "pygments_lexer": "ipython3",
   "version": "3.10.4"
  },
  "orig_nbformat": 4,
  "vscode": {
   "interpreter": {
    "hash": "26de051ba29f2982a8de78e945f0abaf191376122a1563185a90213a26c5da77"
   }
  }
 },
 "nbformat": 4,
 "nbformat_minor": 2
}
