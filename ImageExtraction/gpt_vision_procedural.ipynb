{
 "cells": [
  {
   "cell_type": "code",
   "execution_count": 1,
   "metadata": {},
   "outputs": [],
   "source": [
    "import openai\n",
    "openai.api_key = \"hgfd\""
   ]
  },
  {
   "cell_type": "markdown",
   "metadata": {},
   "source": [
    "##### Generic"
   ]
  },
  {
   "cell_type": "code",
   "execution_count": 2,
   "metadata": {},
   "outputs": [],
   "source": [
    "messages = []"
   ]
  },
  {
   "cell_type": "code",
   "execution_count": 3,
   "metadata": {},
   "outputs": [],
   "source": [
    "def _openai() -> str:\n",
    "    response = openai.chat.completions.create(\n",
    "        model=\"gpt-4-vision-preview\", messages=messages\n",
    "    )\n",
    "    assistant_says = response.choices[0].message.content\n",
    "    messages.append({\"role\": \"assistant\", \"content\": assistant_says})\n",
    "    return assistant_says"
   ]
  },
  {
   "cell_type": "code",
   "execution_count": 4,
   "metadata": {},
   "outputs": [],
   "source": [
    "def extract(image_url: str, instruction: str) -> str:\n",
    "    messages.clear # let's start stateless\n",
    "    messages.append({\n",
    "        \"role\": \"user\",\n",
    "        \"content\": [\n",
    "            {\"type\": \"text\", \"text\": instruction},\n",
    "            {\"type\": \"image_url\", \"image_url\": {\"url\": image_url}}\n",
    "        ]\n",
    "    })\n",
    "    return _openai()"
   ]
  },
  {
   "cell_type": "markdown",
   "metadata": {},
   "source": [
    "##### Application"
   ]
  },
  {
   "cell_type": "code",
   "execution_count": 5,
   "metadata": {},
   "outputs": [
    {
     "name": "stdout",
     "output_type": "stream",
     "text": [
      "```json\n",
      "{\n",
      "  \"Location\": \"Outdoor setting by a chain-link fence\",\n",
      "  \"Time_of_Day\": \"Daytime\",\n",
      "  \"Group_Composition\": \"5 individuals\",\n",
      "  \"Activities\": {\n",
      "    \"Individual_1\": {\n",
      "      \"Gender\": \"Male\",\n",
      "      \"Position\": \"Standing left\",\n",
      "      \"Activity\": \"Leaning against fence, conversing\"\n",
      "    },\n",
      "    \"Individual_2\": {\n",
      "      \"Gender\": \"Male\",\n",
      "      \"Position\": \"Sitting centre\",\n",
      "      \"Activity\": \"Sitting on a curb, looking up\"\n",
      "    },\n",
      "    \"Individual_3\": {\n",
      "      \"Gender\": \"Male\",\n",
      "      \"Position\": \"Standing centre\",\n",
      "      \"Activity\": \"Standing by the fence, possibly conversing\"\n",
      "    },\n",
      "    \"Individual_4\": {\n",
      "      \"Gender\": \"Female\",\n",
      "      \"Position\": \"Standing right\",\n",
      "      \"Activity\": \"Engaged in conversation\"\n",
      "    },\n",
      "    \"Individual_5\": {\n",
      "      \"Gender\": \"Female\",\n",
      "      \"Position\": \"Standing far right\",\n",
      "      \"Activity\": \"Facing another individual, likely in conversation\"\n",
      "    }\n",
      "  },\n",
      "  \"Environment\": {\n",
      "    \"Weather\": \"Appears to be clear\",\n",
      "    \"Ambience\": \"Casual and social\"\n",
      "  },\n",
      "  \"Potential_Context\": \"Friends gathering or casual meeting outdoors\"\n",
      "}\n",
      "```\n",
      "Please note that while I can provide descriptions and context based on the image, I cannot identify real people in the image or make any personal assumptions about them.\n"
     ]
    }
   ],
   "source": [
    "result: str = extract(\n",
    "    \"https://chunntguet.xyz/pics/eliott-reyna-axTm0ee3YP4-unsplash.jpg\",\n",
    "    \"\"\"\n",
    "        Identifiy the social situation represented in this picture.\n",
    "        Recognise the people involved and give an estimate of what they are up to. \n",
    "        Provide your detection in JSON format. \n",
    "        Return a JSON object containing meaningful attributes with values reflecting the detections from the picture.,\n",
    "    \"\"\",\n",
    ")\n",
    "print(result)"
   ]
  }
 ],
 "metadata": {
  "kernelspec": {
   "display_name": "Python 3",
   "language": "python",
   "name": "python3"
  },
  "language_info": {
   "codemirror_mode": {
    "name": "ipython",
    "version": 3
   },
   "file_extension": ".py",
   "mimetype": "text/x-python",
   "name": "python",
   "nbconvert_exporter": "python",
   "pygments_lexer": "ipython3",
   "version": "3.11.8"
  }
 },
 "nbformat": 4,
 "nbformat_minor": 2
}
