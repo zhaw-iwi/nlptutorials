{
 "cells": [
  {
   "attachments": {},
   "cell_type": "markdown",
   "metadata": {},
   "source": [
    "### SQLite to Lists/Dictionaries"
   ]
  },
  {
   "cell_type": "code",
   "execution_count": null,
   "metadata": {},
   "outputs": [],
   "source": [
    "import sqlite3\n",
    "\n",
    "connection = None\n",
    "try:\n",
    "    connection = sqlite3.connect(\"results/idex2023exhibitors.db\")\n",
    "except sqlite3.Error as e:\n",
    "    print(e)\n",
    "\n",
    "cursor = connection.cursor()\n",
    "\n",
    "cursor.execute('''\n",
    "    select name, description\n",
    "    from exhibitors\n",
    "''')\n",
    "rows = cursor.fetchall()\n",
    "print(rows[:3])"
   ]
  },
  {
   "attachments": {},
   "cell_type": "markdown",
   "metadata": {},
   "source": [
    "### SQLite to Dataframe"
   ]
  },
  {
   "cell_type": "code",
   "execution_count": null,
   "metadata": {},
   "outputs": [],
   "source": [
    "import pandas as pd\n",
    "import sqlite3\n",
    "\n",
    "connection = None\n",
    "try:\n",
    "    connection = sqlite3.connect(\"results/idex2023exhibitors.db\")\n",
    "except sqlite3.Error as e:\n",
    "    print(e)\n",
    "\n",
    "df = pd.read_sql_query('''\n",
    "    select name, description\n",
    "    from exhibitors\n",
    "    ''', connection)\n",
    "df.head()"
   ]
  }
 ],
 "metadata": {
  "kernelspec": {
   "display_name": "Python 3",
   "language": "python",
   "name": "python3"
  },
  "language_info": {
   "codemirror_mode": {
    "name": "ipython",
    "version": 3
   },
   "file_extension": ".py",
   "mimetype": "text/x-python",
   "name": "python",
   "nbconvert_exporter": "python",
   "pygments_lexer": "ipython3",
   "version": "3.10.10"
  },
  "orig_nbformat": 4,
  "vscode": {
   "interpreter": {
    "hash": "b02d1009969c06045bd3fe2072aa85171b8afb02d21440c6833c7c84721fd1f2"
   }
  }
 },
 "nbformat": 4,
 "nbformat_minor": 2
}
