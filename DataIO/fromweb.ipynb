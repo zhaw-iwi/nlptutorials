{
 "cells": [
  {
   "attachments": {},
   "cell_type": "markdown",
   "metadata": {},
   "source": [
    "### Scraping: HTTP Request, HTML Parsing"
   ]
  },
  {
   "cell_type": "code",
   "execution_count": null,
   "metadata": {},
   "outputs": [],
   "source": [
    "import requests\n",
    "from bs4 import BeautifulSoup\n",
    "\n",
    "url = \"https://idexuae.ae/exhibit/exhibitor-list\"\n",
    "response = requests.get(url)\n",
    "\n",
    "print(response.status_code)\n",
    "print(response.content)\n",
    "\n",
    "soup = BeautifulSoup(response.content, \"html5lib\")\n",
    "\n",
    "print(soup.content)\n",
    "\n",
    "divs = soup.find_all(\"div\", class_= \"row\")\n",
    "for div in divs:\n",
    "    print(div.get_text())"
   ]
  },
  {
   "attachments": {},
   "cell_type": "markdown",
   "metadata": {},
   "source": [
    "### Web API: HTTP Request, JSON Parsing"
   ]
  },
  {
   "cell_type": "code",
   "execution_count": null,
   "metadata": {},
   "outputs": [],
   "source": [
    "import requests\n",
    "import pandas as pd\n",
    "import sqlite3\n",
    "from tqdm import tqdm\n",
    "\n",
    "\n",
    "# 1 dataframe\n",
    "df = pd.DataFrame(columns=[\"name\", \"website\", \"country\", \"description\"])\n",
    "\n",
    "# 2 requests\n",
    "base_url = \"https://ezone.idexuae.ae/exhibitors-list-json/5?event_id=5&orderby=name&tag=_all_&search=_all_&start=_all_&page=\"\n",
    "headers = {'Accept': 'application/json'}\n",
    "\n",
    "for i in tqdm(range(0, 95)):\n",
    "    page_url = base_url + str(i + 1)\n",
    "    response_json = requests.get(page_url, headers=headers)\n",
    "    response_deserialised = response_json.json()\n",
    "    for item in response_deserialised[\"data\"]:\n",
    "        new_row = pd.DataFrame({\n",
    "            \"name\": item[\"name\"], \n",
    "            \"website\": item[\"website\"], \n",
    "            \"country\": item[\"country\"][\"name\"], \n",
    "            \"description\": item[\"description\"]\n",
    "            }, index=[0])\n",
    "        df = pd.concat([new_row, df])\n",
    "\n",
    "# 3 database\n",
    "connection = None\n",
    "try:\n",
    "    connection = sqlite3.connect(\"results/idex2023exhibitors.db\")\n",
    "except sqlite3.Error as e:\n",
    "    print(e)\n",
    "\n",
    "df.to_sql(\"exhibitors\", connection, if_exists=\"replace\", index=False)\n",
    "\n",
    "connection.commit()\n"
   ]
  }
 ],
 "metadata": {
  "kernelspec": {
   "display_name": "Python 3",
   "language": "python",
   "name": "python3"
  },
  "language_info": {
   "codemirror_mode": {
    "name": "ipython",
    "version": 3
   },
   "file_extension": ".py",
   "mimetype": "text/x-python",
   "name": "python",
   "nbconvert_exporter": "python",
   "pygments_lexer": "ipython3",
   "version": "3.10.10"
  },
  "orig_nbformat": 4,
  "vscode": {
   "interpreter": {
    "hash": "b02d1009969c06045bd3fe2072aa85171b8afb02d21440c6833c7c84721fd1f2"
   }
  }
 },
 "nbformat": 4,
 "nbformat_minor": 2
}
