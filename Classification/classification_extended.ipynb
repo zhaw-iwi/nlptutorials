{
 "cells": [
  {
   "attachments": {},
   "cell_type": "markdown",
   "metadata": {},
   "source": [
    "# Extended Process\n",
    "\n",
    "- Obtaining and loading data: from CSV\n",
    "- Exploring the data: visualise frequencies and show distributions\n",
    "- Machine learning\n",
    "    - Clean data\n",
    "    - Sampling\n",
    "    - Split data\n",
    "    - Pipeline: vectorisation and model fiting\n",
    "    - Model evaluation: more detailed reporting\n",
    "- Apply model (do one prediction)"
   ]
  },
  {
   "attachments": {},
   "cell_type": "markdown",
   "metadata": {},
   "source": [
    "### Obtaining data"
   ]
  },
  {
   "cell_type": "code",
   "execution_count": null,
   "metadata": {},
   "outputs": [],
   "source": [
    "import pandas as pd\n",
    "\n",
    "df = pd.read_csv(\"data/mental_health.csv\")\n",
    "df.head()"
   ]
  },
  {
   "attachments": {},
   "cell_type": "markdown",
   "metadata": {},
   "source": [
    "### Exploration"
   ]
  },
  {
   "cell_type": "code",
   "execution_count": null,
   "metadata": {},
   "outputs": [],
   "source": [
    "import seaborn as sns\n",
    "\n",
    "value_counts = df.label.value_counts()\n",
    "sns.barplot(y=value_counts.index, x=value_counts, orient=\"h\")"
   ]
  },
  {
   "cell_type": "code",
   "execution_count": null,
   "metadata": {},
   "outputs": [],
   "source": [
    "import matplotlib.pyplot as plt\n",
    "\n",
    "fig, ax = plt.subplots()\n",
    "df[\"label\"].reset_index().groupby(\"label\").count().plot(\n",
    "        kind=\"barh\", legend=False, ax=ax\n",
    "        ).grid(axis='x')\n",
    "plt.show()"
   ]
  },
  {
   "cell_type": "code",
   "execution_count": null,
   "metadata": {},
   "outputs": [],
   "source": [
    "# Word Count\n",
    "df[\"word_count\"] = df[\"text\"].apply(\n",
    "    lambda x:\n",
    "        len(str(x).split())\n",
    ")\n",
    "print(df[df[\"label\"] == 0][\"word_count\"].mean())\n",
    "print(df[df[\"label\"] == 1][\"word_count\"].mean())"
   ]
  },
  {
   "cell_type": "code",
   "execution_count": null,
   "metadata": {},
   "outputs": [],
   "source": [
    "import matplotlib.pyplot as plt\n",
    "\n",
    "# Word Count Histogram\n",
    "\n",
    "fig,(ax1,ax2)=plt.subplots(1,2,figsize=(10,4))\n",
    "train_words=df[df['label']==0]['word_count']\n",
    "ax1.hist(train_words,color='green')\n",
    "ax1.set_title('regular text')\n",
    "train_words=df[df['label']==1]['word_count']\n",
    "ax2.hist(train_words,color='red')\n",
    "ax2.set_title('poisonous text')\n",
    "fig.suptitle('Words per text')\n",
    "plt.show()"
   ]
  },
  {
   "attachments": {},
   "cell_type": "markdown",
   "metadata": {},
   "source": [
    "### Sampling (e.g. upon class imbalance)"
   ]
  },
  {
   "cell_type": "code",
   "execution_count": null,
   "metadata": {},
   "outputs": [],
   "source": [
    "# simple, e.g. to speed things up while developing\n",
    "\n",
    "df = df.sample(n=25000, random_state = 1)"
   ]
  },
  {
   "cell_type": "code",
   "execution_count": null,
   "metadata": {},
   "outputs": [],
   "source": [
    "from imblearn.under_sampling import RandomUnderSampler\n",
    "\n",
    "rus = RandomUnderSampler(sampling_strategy=1, random_state=17)\n",
    "df_balanced, _ = rus.fit_resample(df, df['label'])\n",
    "df_balanced.head()"
   ]
  },
  {
   "attachments": {},
   "cell_type": "markdown",
   "metadata": {},
   "source": [
    "### Cleaning"
   ]
  },
  {
   "cell_type": "code",
   "execution_count": null,
   "metadata": {},
   "outputs": [],
   "source": [
    "import re\n",
    "import nltk\n",
    "# nltk.download(\"stopwords\")\n",
    "# nltk.download(\"wordnet\")\n",
    "\n",
    "def clean(text, stopwords):\n",
    "    text = text.lower()\n",
    "    text = text.strip()\n",
    "    text = re.sub(r'[^\\w\\s]', '', text)\n",
    "\n",
    "    text_list = text.split()\n",
    "    text_list = [word for word in text_list if word not in stopwords]\n",
    "\n",
    "    lematizer = nltk.stem.wordnet.WordNetLemmatizer()\n",
    "    text_list = [lematizer.lemmatize(word) for word in text_list]\n",
    "\n",
    "    text = \" \".join(text_list)\n",
    "    return text\n",
    "\n",
    "stopwords = nltk.corpus.stopwords.words(\"english\")\n",
    "df[\"text_clean\"] = df[\"text\"].apply(\n",
    "    lambda x:\n",
    "        clean(x, stopwords)\n",
    ")\n",
    "\n",
    "df.head()"
   ]
  },
  {
   "attachments": {},
   "cell_type": "markdown",
   "metadata": {},
   "source": [
    "### Modelling"
   ]
  },
  {
   "cell_type": "code",
   "execution_count": null,
   "metadata": {},
   "outputs": [],
   "source": [
    "from sklearn.model_selection import train_test_split\n",
    "\n",
    "X = df[\"text_clean\"]\n",
    "y = df[\"label\"]\n",
    "\n",
    "X_train, X_test, y_train, y_test = train_test_split(\n",
    "    X, y, test_size=0.2, random_state=17)"
   ]
  },
  {
   "cell_type": "code",
   "execution_count": null,
   "metadata": {},
   "outputs": [],
   "source": [
    "from sklearn.pipeline import Pipeline\n",
    "from sklearn.feature_extraction.text import TfidfVectorizer\n",
    "from sklearn.naive_bayes import MultinomialNB\n",
    "\n",
    "pipe = Pipeline([(\"tfidf\", TfidfVectorizer()), (\"svm\", MultinomialNB())])\n",
    "pipe.fit(X_train, y_train)"
   ]
  },
  {
   "attachments": {},
   "cell_type": "markdown",
   "metadata": {},
   "source": [
    "### Evaluation"
   ]
  },
  {
   "cell_type": "code",
   "execution_count": null,
   "metadata": {},
   "outputs": [],
   "source": [
    "from sklearn import metrics\n",
    "\n",
    "predictions = pipe.predict(X_test)\n",
    "report = metrics.classification_report(y_true=y_test, y_pred=predictions)\n",
    "print(report)"
   ]
  },
  {
   "cell_type": "code",
   "execution_count": null,
   "metadata": {},
   "outputs": [],
   "source": [
    "confusion = metrics.confusion_matrix(y_true=y_test, y_pred=predictions)\n",
    "\n",
    "fig, ax = plt.subplots(figsize=(6, 6))\n",
    "ax.matshow(confusion, cmap=plt.cm.Blues, alpha=0.3)\n",
    "for i in range(confusion.shape[0]):\n",
    "    for j in range(confusion.shape[1]):\n",
    "        ax.text(\n",
    "            x=j, y=i,s=confusion[i, j], \n",
    "            va='center', ha='center', size='xx-large')\n",
    " \n",
    "plt.xlabel('Prediction', fontsize=18)\n",
    "plt.ylabel('Reality', fontsize=18)\n",
    "plt.title('Confusion Matrix', fontsize=18)\n",
    "plt.show()"
   ]
  },
  {
   "attachments": {},
   "cell_type": "markdown",
   "metadata": {},
   "source": [
    "### Application"
   ]
  },
  {
   "cell_type": "code",
   "execution_count": null,
   "metadata": {},
   "outputs": [],
   "source": [
    "a = pipe.predict(['''\n",
    "    nothing look forward lifei dont many \n",
    "    reasons keep going feel like nothing \n",
    "    keeps going next day makes want hang myself\n",
    "    '''])\n",
    "print(a)"
   ]
  }
 ],
 "metadata": {
  "kernelspec": {
   "display_name": "Python 3",
   "language": "python",
   "name": "python3"
  },
  "language_info": {
   "codemirror_mode": {
    "name": "ipython",
    "version": 3
   },
   "file_extension": ".py",
   "mimetype": "text/x-python",
   "name": "python",
   "nbconvert_exporter": "python",
   "pygments_lexer": "ipython3",
   "version": "3.10.10"
  },
  "orig_nbformat": 4,
  "vscode": {
   "interpreter": {
    "hash": "b02d1009969c06045bd3fe2072aa85171b8afb02d21440c6833c7c84721fd1f2"
   }
  }
 },
 "nbformat": 4,
 "nbformat_minor": 2
}
