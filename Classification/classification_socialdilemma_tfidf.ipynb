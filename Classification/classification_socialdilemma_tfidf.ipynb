{
 "cells": [
  {
   "attachments": {},
   "cell_type": "markdown",
   "metadata": {},
   "source": [
    "## TFIDF Vectorisation"
   ]
  },
  {
   "cell_type": "code",
   "execution_count": null,
   "metadata": {},
   "outputs": [],
   "source": [
    "import pandas as pd\n",
    "df = pd.read_csv(\"data/TheSocialDilemma.csv\")\n",
    "df[\"label\"] = df[\"Sentiment\"].apply(lambda input:\n",
    "                \"positive\" if input == \"Positive\" else \"notpositive\"\n",
    "            )\n",
    "df = df[[\"text\", \"label\"]]\n",
    "df = df.sample(100)\n",
    "df.head()"
   ]
  },
  {
   "attachments": {},
   "cell_type": "markdown",
   "metadata": {},
   "source": [
    "### Clean-Up to Reduce Vector Dimensionality"
   ]
  },
  {
   "cell_type": "code",
   "execution_count": null,
   "metadata": {},
   "outputs": [],
   "source": [
    "import spacy\n",
    "nlp = spacy.load(\"en_core_web_lg\")\n",
    "\n",
    "def clean(text):\n",
    "    text = text.lower()\n",
    "    document = nlp(text)\n",
    "    result = []\n",
    "    for token in document:\n",
    "        if not token.is_stop and (token.pos_ == \"NOUN\" or token.pos_ == \"VERB\"):\n",
    "            result.append(token.lemma_)\n",
    "\n",
    "    return \" \".join(map(str, result))\n",
    "\n",
    "df[\"text_clean\"] = df[\"text\"].apply(lambda input: clean(input))\n",
    "df.head()\n"
   ]
  },
  {
   "attachments": {},
   "cell_type": "markdown",
   "metadata": {},
   "source": [
    "### TFID Vectors & Features\n",
    "\n",
    "Observe the difference in the number of features depending on vectorising texts in column \"text\" vs. \"text_clean\""
   ]
  },
  {
   "cell_type": "code",
   "execution_count": null,
   "metadata": {},
   "outputs": [],
   "source": [
    "from sklearn.feature_extraction.text import TfidfVectorizer\n",
    "\n",
    "vectoriser = TfidfVectorizer()\n",
    "vectoriser.fit(df[\"text_clean\"])\n",
    "for term in vectoriser.get_feature_names_out():\n",
    "    print(term)"
   ]
  }
 ],
 "metadata": {
  "kernelspec": {
   "display_name": "Python 3",
   "language": "python",
   "name": "python3"
  },
  "language_info": {
   "codemirror_mode": {
    "name": "ipython",
    "version": 3
   },
   "file_extension": ".py",
   "mimetype": "text/x-python",
   "name": "python",
   "nbconvert_exporter": "python",
   "pygments_lexer": "ipython3",
   "version": "3.10.4"
  },
  "orig_nbformat": 4
 },
 "nbformat": 4,
 "nbformat_minor": 2
}
