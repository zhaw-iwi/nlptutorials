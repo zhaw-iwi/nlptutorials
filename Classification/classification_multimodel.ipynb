{
 "cells": [
  {
   "attachments": {},
   "cell_type": "markdown",
   "metadata": {},
   "source": [
    "# Comparing Different Models\n",
    "\n",
    "- Obtaining and loading data\n",
    "- Exploring the data\n",
    "- Machine learning\n",
    "    - Split data\n",
    "    - Two pipelines with different models\n",
    "    - Model evaluation: compare performances\n",
    "- Apply each model (do one prediction)"
   ]
  },
  {
   "attachments": {},
   "cell_type": "markdown",
   "metadata": {},
   "source": [
    "### Obtaining Data"
   ]
  },
  {
   "cell_type": "code",
   "execution_count": null,
   "metadata": {},
   "outputs": [],
   "source": [
    "import pandas as pd\n",
    "\n",
    "df = pd.read_csv(\"data/mental_health.csv\")\n",
    "df.head()"
   ]
  },
  {
   "attachments": {},
   "cell_type": "markdown",
   "metadata": {},
   "source": [
    "### Exploration"
   ]
  },
  {
   "cell_type": "code",
   "execution_count": null,
   "metadata": {},
   "outputs": [],
   "source": [
    "df.info()\n",
    "df.label.value_counts()"
   ]
  },
  {
   "attachments": {},
   "cell_type": "markdown",
   "metadata": {},
   "source": [
    "### Modelling"
   ]
  },
  {
   "cell_type": "code",
   "execution_count": null,
   "metadata": {},
   "outputs": [],
   "source": [
    "from sklearn.model_selection import train_test_split\n",
    "\n",
    "X = df[\"text\"]\n",
    "y = df[\"label\"]\n",
    "\n",
    "X_train, X_test, y_train, y_test = train_test_split(\n",
    "    X, y, test_size=0.2, random_state=17)"
   ]
  },
  {
   "cell_type": "code",
   "execution_count": null,
   "metadata": {},
   "outputs": [],
   "source": [
    "from sklearn.pipeline import Pipeline\n",
    "from sklearn.feature_extraction.text import TfidfVectorizer\n",
    "from sklearn.naive_bayes import MultinomialNB\n",
    "from sklearn.svm import LinearSVC\n",
    "\n",
    "pipeBayes = Pipeline([(\"tfidf\", TfidfVectorizer()), (\"svm\", MultinomialNB())])\n",
    "pipeBayes.fit(X_train, y_train)\n",
    "\n",
    "pipeSVM = Pipeline([(\"tfidf\", TfidfVectorizer()), (\"bayes\", LinearSVC())])\n",
    "pipeSVM.fit(X_train, y_train)"
   ]
  },
  {
   "attachments": {},
   "cell_type": "markdown",
   "metadata": {},
   "source": [
    "### Evaluation"
   ]
  },
  {
   "cell_type": "code",
   "execution_count": null,
   "metadata": {},
   "outputs": [],
   "source": [
    "from sklearn import metrics\n",
    "\n",
    "predictionsBayes = pipeBayes.predict(X_test)\n",
    "accuracyBayes = metrics.accuracy_score(y_true=y_test, y_pred=predictionsBayes)\n",
    "confusionBayes = metrics.confusion_matrix(y_true=y_test, y_pred=predictionsBayes)\n",
    "print(accuracyBayes)\n",
    "print(confusionBayes)\n",
    "\n",
    "predictionsSV = pipeSVM.predict(X_test)\n",
    "accuracySV = metrics.accuracy_score(y_true=y_test, y_pred=predictionsSV)\n",
    "confusionSV = metrics.confusion_matrix(y_true=y_test, y_pred=predictionsSV)\n",
    "print(accuracySV)\n",
    "print(confusionSV)"
   ]
  },
  {
   "attachments": {},
   "cell_type": "markdown",
   "metadata": {},
   "source": [
    "### Application"
   ]
  },
  {
   "cell_type": "code",
   "execution_count": null,
   "metadata": {},
   "outputs": [],
   "source": [
    "aBayes = pipeBayes.predict(['''\n",
    "    nothing look forward lifei dont many \n",
    "    reasons keep going feel like nothing \n",
    "    keeps going next day makes want hang myself\n",
    "    '''])\n",
    "print(aBayes)\n",
    "\n",
    "aSVM = pipeSVM.predict(['''\n",
    "    nothing look forward lifei dont many \n",
    "    reasons keep going feel like nothing \n",
    "    keeps going next day makes want hang myself\n",
    "    '''])\n",
    "print(aSVM)"
   ]
  }
 ],
 "metadata": {
  "kernelspec": {
   "display_name": "Python 3",
   "language": "python",
   "name": "python3"
  },
  "language_info": {
   "codemirror_mode": {
    "name": "ipython",
    "version": 3
   },
   "file_extension": ".py",
   "mimetype": "text/x-python",
   "name": "python",
   "nbconvert_exporter": "python",
   "pygments_lexer": "ipython3",
   "version": "3.10.10"
  },
  "orig_nbformat": 4,
  "vscode": {
   "interpreter": {
    "hash": "b02d1009969c06045bd3fe2072aa85171b8afb02d21440c6833c7c84721fd1f2"
   }
  }
 },
 "nbformat": 4,
 "nbformat_minor": 2
}
